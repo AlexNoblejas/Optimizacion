{
 "cells": [
  {
   "cell_type": "markdown",
   "id": "10cc8483-19b7-4e2f-b70f-028dcac39a9d",
   "metadata": {},
   "source": [
    "TAREA 5\n",
    "-  Alexander Noblejas 20191966\n",
    "-  Fernanda Pizarro 20191460"
   ]
  },
  {
   "cell_type": "code",
   "execution_count": null,
   "id": "e1532fc6-3b41-47ef-bbb2-1671234dc8dd",
   "metadata": {},
   "outputs": [],
   "source": [
    "!conda install -c conda-forge pulp\n",
    "!conda install -c conda-forge glpk"
   ]
  },
  {
   "cell_type": "code",
   "execution_count": null,
   "id": "815bc0d3-f08f-4761-9f6c-f30a5697cef7",
   "metadata": {},
   "outputs": [],
   "source": [
    "#instalación\n",
    "pip install pulp"
   ]
  },
  {
   "cell_type": "code",
   "execution_count": null,
   "id": "617174f0-0933-40c6-846a-ed5d6ebd8c5f",
   "metadata": {},
   "outputs": [],
   "source": [
    "import pulp as pp"
   ]
  },
  {
   "cell_type": "markdown",
   "id": "79cd934c-1a8b-4ea2-8f8a-86e24e2d957f",
   "metadata": {},
   "source": [
    "Ejercicio 1: el problema de la dieta"
   ]
  },
  {
   "cell_type": "code",
   "execution_count": null,
   "id": "94d2ef25-6c77-4bb6-9a15-7ee070f137f3",
   "metadata": {},
   "outputs": [],
   "source": [
    "%%html\n",
    "<iframe src=\"https://docs.google.com/presentation/d/e/2PACX-1vTSq9X74urGAB_5n_MIJ9ZGIboKSvBdokVTBXVLh_qqZnmLRTJioOF431Rzys3Qi9UaFwWXjeq6Wmd5/embed?start=false&loop=false&delayms=3000\" frameborder=\"0\" width=\"960\" height=\"569\" allowfullscreen=\"true\" mozallowfullscreen=\"true\" webkitallowfullscreen=\"true\"></iframe>"
   ]
  },
  {
   "cell_type": "code",
   "execution_count": null,
   "id": "0d68a41e-5702-4850-9ef2-8f82151d5467",
   "metadata": {},
   "outputs": [],
   "source": [
    "#1. Nombre y declarar si es del tipo de problema de maximización o minimización\n",
    "model = pp.LpProblem(name='diet-problem', # just the name\n",
    "                     sense=pp.LpMinimize) # type of problem"
   ]
  },
  {
   "cell_type": "code",
   "execution_count": null,
   "id": "13a55c96-3eb9-4d50-96a8-e75ea02e36a8",
   "metadata": {},
   "outputs": [],
   "source": [
    "#2. Declarar las VARIABLES\n",
    "#¿Cuánto de cada elemento?\n",
    "VegaV = pp.LpVariable(name=\"VegaVita\",  # just the name\n",
    "                    lowBound=0,  # ensure non-negativity\n",
    "                    cat='Continuous') # here: you accept decimal values\n",
    "\n",
    "HappyH = pp.LpVariable(name=\"HappyHealth\",\n",
    "                 lowBound=0,\n",
    "                 cat='Continuous')"
   ]
  },
  {
   "cell_type": "code",
   "execution_count": null,
   "id": "b15544bc-44d6-42bd-adad-269ecc8ea755",
   "metadata": {},
   "outputs": [],
   "source": [
    "#3. Crear función de optimización\n",
    "VegaCoeff=0.2\n",
    "HappyCoeff=0.3\n",
    "obj_func = VegaCoeff*VegaV + HappyCoeff*HappyH"
   ]
  },
  {
   "cell_type": "code",
   "execution_count": null,
   "id": "f2a59388-39d9-45de-9cc8-5a7a495a2f0a",
   "metadata": {},
   "outputs": [],
   "source": [
    "#4.Representar las limitaciones\n",
    "# SUBJECT TO:\n",
    "C1= pp.LpConstraint(name='Vitamin C Constraint',   # just the name\n",
    "                    e= 20*VegaV + 30*HappyH, rhs=60, # linear combination of constraint and rhs\n",
    "                    sense=pp.LpConstraintGE)\n",
    "C2= pp.LpConstraint(name='Calcium Constraint',\n",
    "                    e= 500*VegaV + 250*HappyH, rhs=1000,\n",
    "                    sense=pp.LpConstraintGE)\n",
    "C3= pp.LpConstraint(name='Iron Constraint',\n",
    "                    e= 9*VegaV + 2*HappyH, rhs=18,\n",
    "                    sense=pp.LpConstraintGE, )\n",
    "C4= pp.LpConstraint(name='Niacin Constraint',\n",
    "                    e= 2*VegaV + 10*HappyH, rhs=20,\n",
    "                    sense=pp.LpConstraintGE, )\n",
    "C5= pp.LpConstraint(name='Magnesium Constraint',\n",
    "                    e= 60*VegaV + 90*HappyH, rhs=360,\n",
    "                    sense=pp.LpConstraintGE, )"
   ]
  },
  {
   "cell_type": "code",
   "execution_count": null,
   "id": "d753543b-6392-4b08-a67a-81163c9d1a48",
   "metadata": {},
   "outputs": [],
   "source": [
    "model += obj_func\n",
    "model += C1\n",
    "model += C2\n",
    "model += C3\n",
    "model += C4\n",
    "model += C5"
   ]
  },
  {
   "cell_type": "code",
   "execution_count": null,
   "id": "ed90790a-2695-4e50-beda-95125ac26b4b",
   "metadata": {},
   "outputs": [],
   "source": [
    "solverToUse = pp.COIN_CMD(msg=False)\n",
    "model.solve();"
   ]
  },
  {
   "cell_type": "code",
   "execution_count": null,
   "id": "8f1d6e6d-51af-4b2d-963c-8f0205cca3ed",
   "metadata": {},
   "outputs": [],
   "source": [
    "import pandas as pd\n",
    "\n",
    "Results={\"Model Status\":pp.LpStatus[model.status]}\n",
    "Results.update({\"Optimal Solution\":pp.value(model.objective)})\n",
    "Results.update({v.name: v.varValue for v in model.variables()})\n",
    "Results"
   ]
  },
  {
   "cell_type": "code",
   "execution_count": null,
   "id": "47f23a9d-c0ad-48d7-ae9a-196b5089f57d",
   "metadata": {},
   "outputs": [],
   "source": [
    "#or\n",
    "pd.DataFrame.from_dict(Results,orient='index').T.set_index('Model Status').style.format('{:,}')"
   ]
  },
  {
   "cell_type": "markdown",
   "id": "afc43fc1-f244-43fa-8bd7-37cb3d6b8a6c",
   "metadata": {},
   "source": [
    "EJERCICIO 2\n",
    "Desidiendo el destino de maestría"
   ]
  },
  {
   "cell_type": "code",
   "execution_count": null,
   "id": "eb05e3c7-6470-4c7c-a997-9a16f54d4f19",
   "metadata": {},
   "outputs": [],
   "source": [
    "%%html\n",
    "<iframe src=\"https://docs.google.com/presentation/d/e/2PACX-1vR7GL_wF1eKRO0JgEUyIx5cxXUhTQ8ZM4F3AE1MLr7GYG33dwEobrLo6O2MaV2d7Cv47TaTgHghkhrV/embed?start=false&loop=false&delayms=3000\" frameborder=\"0\" width=\"960\" height=\"569\" allowfullscreen=\"true\" mozallowfullscreen=\"true\" webkitallowfullscreen=\"true\"></iframe>"
   ]
  },
  {
   "cell_type": "code",
   "execution_count": null,
   "id": "b5fccb61-774a-41f6-bb80-1c545a06103b",
   "metadata": {},
   "outputs": [],
   "source": [
    "# calling the function\n",
    "from ahp.ahp import AHP"
   ]
  },
  {
   "cell_type": "code",
   "execution_count": null,
   "id": "79f9483c-2fa4-491e-b187-3dc6d975935a",
   "metadata": {},
   "outputs": [],
   "source": [
    "import pandas as pd\n",
    "\n",
    "pairwise_cost=pd.read_excel(\"ahp2_tables.xlsx\",sheet_name='Cost of living', index_col=0)\n",
    "pairwise_language=pd.read_excel(\"ahp2_tables.xlsx\",sheet_name='Language difficulty', index_col=0)\n",
    "pairwise_possibilities=pd.read_excel(\"ahp2_tables.xlsx\",sheet_name='Possibilities to get a job', index_col=0)\n",
    "pairwise_criteria=pd.read_excel(\"ahp2_tables.xlsx\",sheet_name='Criteria', index_col=0)"
   ]
  },
  {
   "cell_type": "code",
   "execution_count": null,
   "id": "e8d8a16e-f14d-4f60-a4ee-082aeff4834d",
   "metadata": {},
   "outputs": [],
   "source": [
    "pairwise_criteria"
   ]
  },
  {
   "cell_type": "code",
   "execution_count": null,
   "id": "0e1aad7a-44cc-4aa7-8fc7-36d1a98a1762",
   "metadata": {},
   "outputs": [],
   "source": [
    "# follow the same order as the criteria\n",
    "data = [pairwise_cost.values.tolist(),\n",
    "        pairwise_language.values.tolist(),\n",
    "        pairwise_possibilities.values.tolist(),\n",
    "        pairwise_criteria.values.tolist()]"
   ]
  },
  {
   "cell_type": "code",
   "execution_count": null,
   "id": "5ad14b19-33be-4c7c-bd23-e6a1a1da82b2",
   "metadata": {},
   "outputs": [],
   "source": [
    "ahp = AHP()\n",
    "ahp.fit(data)"
   ]
  },
  {
   "cell_type": "code",
   "execution_count": null,
   "id": "d7a2a27c-ba07-4a9a-9afa-2fa9e73a766f",
   "metadata": {},
   "outputs": [],
   "source": [
    "Solution=pd.DataFrame(index=pairwise_possibilities.index)\n",
    "Solution['Score']=ahp.classificate()\n",
    "Solution['Ranking']=Solution.Score.rank(ascending=False)\n",
    "Solution"
   ]
  },
  {
   "cell_type": "code",
   "execution_count": null,
   "id": "36635da9-f083-4dd0-b24f-2f3774011927",
   "metadata": {},
   "outputs": [],
   "source": []
  },
  {
   "cell_type": "code",
   "execution_count": null,
   "id": "724afc0c-6bb2-48c3-aad2-7a30357c2df0",
   "metadata": {},
   "outputs": [],
   "source": []
  },
  {
   "cell_type": "code",
   "execution_count": null,
   "id": "c52b5ece-fee2-4519-bade-edfe7bb49627",
   "metadata": {},
   "outputs": [],
   "source": []
  }
 ],
 "metadata": {
  "kernelspec": {
   "display_name": "Python 3 (ipykernel)",
   "language": "python",
   "name": "python3"
  },
  "language_info": {
   "codemirror_mode": {
    "name": "ipython",
    "version": 3
   },
   "file_extension": ".py",
   "mimetype": "text/x-python",
   "name": "python",
   "nbconvert_exporter": "python",
   "pygments_lexer": "ipython3",
   "version": "3.11.7"
  }
 },
 "nbformat": 4,
 "nbformat_minor": 5
}
